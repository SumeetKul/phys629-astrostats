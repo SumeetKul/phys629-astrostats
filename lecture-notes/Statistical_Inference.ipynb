{
 "cells": [
  {
   "cell_type": "markdown",
   "id": "ba4adbb7-6481-493e-ae1f-0c013e777f71",
   "metadata": {},
   "source": [
    "# Statistical Inference\n",
    "\n",
    "## Frequentist vs. Bayesian Estimation"
   ]
  },
  {
   "cell_type": "markdown",
   "id": "6d88a63d-698c-484c-b183-cff7e07eb2b4",
   "metadata": {},
   "source": [
    "## Statistical Inference <a class=\"anchor\" id=\"one\"></a>\n",
    "\n",
    "Statistical *inference* is about drawing conclusions from data, specifically determining the properties of a population by data sampling.\n",
    "\n",
    "Three examples of inference are:\n",
    "1. What is the best estimate for a model parameter?\n",
    "\n",
    "If we measure some data recorded by/as a random variable $d = \\{x_i\\}$, we can have a model (M) that describes $\\{x_i\\}$ using a set of parameters $\\vec{\\theta}$. There will be a true set of values for these parameters in nature $\\vec{\\theta}_{0}$, but our parameter estimation returns our best estimates of this based on the measurements we've made. Ideally, if our experiment is precise, if the noise is low and the number of measurements is large, we will be closer to this true value. \n",
    "   \n",
    "2. How confident are we about our result?\n",
    "3. Are the data consistent with a particular model/hypothesis?"
   ]
  },
  {
   "cell_type": "markdown",
   "id": "3573608d-6a3c-45bd-aaff-7f19e8636ae5",
   "metadata": {},
   "source": [
    "### Some Terminology\n",
    "\n",
    "* We typically study the properties of some ***population*** by measuring ***samples*** from that population. The population doesn't have to refer to different objects. E.g., we may be (re)measuring the position of an object at rest; the population is the distribution of (an infinite number of) measurements smeared by the uncertainty, and the sample are the measurement we've actually taken.\n",
    "\n",
    "\n",
    "* A ***statistic*** is any function of the sample. For example, the sample mean is a statistic. But also, \"the value of the first measurement\" is also a statistic. Don't stress too much about how to make a statistic; it's just a way of summarizing data in a way that helps reveal the presence of a signal. We will meet ways of finding the optimal statistic for a given scenario.\n",
    "\n",
    "\n",
    "* To conclude something about the population from the sample, we develop ***estimators***. An estimator is a statistic, a rule for calculating an estimate of a given quantity based on observed data.\n",
    "\n",
    "\n",
    "* There are ***point*** and ***interval estimators***. The point estimators yield single-valued results (example: the position of an object), while with an interval estimator, the result would be a range of plausible values (example: confidence interval for the position of an object).\n",
    "\n",
    "\n",
    "* Measurements have **uncertainties** (not errors) and we need to account for these (sometimes they are unknown). Data are not variables but fixed values."
   ]
  },
  {
   "cell_type": "markdown",
   "id": "0b3b6850-5f66-4de6-b829-230860a652c8",
   "metadata": {},
   "source": [
    "### Frequentist vs. Bayesian Inference\n",
    "\n",
    "There are two major statistical paradigms that address the statistical inference questions: \n",
    "- the **classical**, or **frequentist** paradigm,\n",
    "- the **Bayesian** paradigm.\n",
    "\n",
    "While most of statistics and machine learning is based on the classical paradigm, Bayesian techniques are being embraced by the statistical and scientific communities at an ever-increasing pace...especially in astrophysics.\n",
    "\n",
    "#### Key differences\n",
    "- **Definition of probabilities**:\n",
    "    - In ***frequentist inference***, probabilities describe the ***relative frequency of events*** over repeated experimental trials. \n",
    "    - In ***Bayesian infernece***, probabilities instead quantify our ***subjective belief about experimental outcomes, model parameters, or even models themselves***. \n",
    "    \n",
    "    \n",
    "- **Quantifying uncertainty**:\n",
    "    - In ***frequentist inference*** we have ***confidence levels*** that describe the distribution of the measured parameter from the data around the true value.\n",
    "    - In ***Bayesian inference*** we have ***credible regions*** derived from posterior probabilitiy distributions (we'll meet these later). These encode our \"***belief spread***\" in model parameters."
   ]
  },
  {
   "cell_type": "markdown",
   "id": "bee75e05-73d0-4188-abaa-2277f281a72c",
   "metadata": {},
   "source": [
    "For an in-depth and practical discussion: http://jakevdp.github.io/blog/2014/03/11/frequentism-and-bayesianism-a-practical-intro/\n"
   ]
  },
  {
   "cell_type": "markdown",
   "id": "4ab5f7a4-82c4-44e0-8067-6daee03632e6",
   "metadata": {},
   "source": [
    "## Maximum Likelihood Estimation (MLE) <a class=\"anchor\" id=\"two\"></a>\n",
    "\n",
    "Let's talk about maximum likelihood estimation ($\\S 4.2$ in the textbook), which is relevant to both Bayesian and Frequentist approaches.\n",
    "\n",
    "### Maximum Likelihood Approach\n",
    "\n",
    "Maximum likelihood estimation follows this blueprint:\n",
    "\n",
    "1. **Hypothesis**: Formulate a model, a *hypothesis*, about how the data are generated. For example, the data are a measurement of some quantity with Gaussian random uncertainties (i.e., each measurement is equal to the true value, plus a deviation randomly drawn from the normal distribution). Models are typically described using a set of model parameters $\\boldsymbol{\\theta}$, and written as $\\boldsymbol{M}(\\boldsymbol{\\theta})$.\n",
    "\n",
    "\n",
    "2. **Maximum Likelihood Estimation**: Search for the \"best\" model parameters $\\boldsymbol{\\theta}$ which maximize the ***likelihood*** $L(\\boldsymbol{\\theta}) \\equiv p(D|M)$. This search yields the MLE *point estimates*, $\\boldsymbol{\\theta^0}$.\n",
    "\n",
    "\n",
    "3. **Quantifying Estimate Uncertainty**: Determine the confidence region for model parameters, $\\boldsymbol{\\theta^0}$. Such a confidence estimate can be obtained analytically (possibly with some approximations), but can also be done numerically for arbitrary models using general frequentist techniques, such as bootstrap, jackknife, and cross-validation (we'll come to these later).\n",
    "\n",
    "\n",
    "4. **Hypothesis Testing**: Perform hypothesis tests as needed to make other conclusions about models and point estimates. Possibly GOTO #1.\n",
    "\n",
    "\n",
    "\n",
    "### The Likelihood Function\n",
    "\n",
    "If we know the distribution from which our data were drawn (or make a hypothesis about it), then we can compute the **probability** of our data being generated.\n",
    "\n",
    "For example, if our data are generated by a Gaussian process with mean $\\mu$ and standard deviation $\\sigma$, then the probability density of a certain value $x$ is\n",
    "\n",
    "$$p(x|\\mu,\\sigma) = \\frac{1}{\\sigma\\sqrt{2\\pi}} \\exp\\left(\\frac{-(x-\\mu)^2}{2\\sigma^2}\\right).$$\n",
    "\n",
    "If we want to know the total probability of our ***entire*** data set (as opposed to one measurement) then we must compute the ***product*** of all the individual probabilities:\n",
    "\n",
    "$$L \\equiv p(\\{x_i\\}|M(\\theta)) = \\prod_{i=1}^N p(x_i|M(\\theta)),$$\n",
    "\n",
    "where $M$ is the *model* and $\\theta$ refers collectively to the $k$ parameters of the model, which can generally be multi-dimensional. In words...\n",
    "\n",
    "> $L(\\{x_i\\})\\equiv$ the probability of the data given the model parameters. \n",
    "\n",
    "If we consider $L$ as a function of the model parameters, we refer to it as\n",
    "\n",
    "> $L(\\theta)\\equiv$ likelihood of the model parameters, given the observed data. \n",
    "\n",
    "Note:\n",
    "\n",
    "- while the components of $L$ may be normalized pdfs, their product is not.\n",
    "- the product can be very small, so we often take the log of $L$. \n",
    "- we're assuming the individual measurements are independent of each other.\n",
    "\n",
    "We can write $L$ out as\n",
    "\n",
    "$$L = \\prod_{i=1}^N \\frac{1}{\\sigma\\sqrt{2\\pi}} \\exp\\left(\\frac{-(x_i-\\mu)^2}{2\\sigma^2}\\right),$$\n",
    "\n",
    "and simplify to\n",
    "\n",
    "$$L = \\left(  \\frac{1}{\\sigma\\sqrt{2\\pi}} \\right)^N \\exp\\left( -\\frac{1}{2} \\sum \\left[\\frac{-(x_i-\\mu)}{\\sigma} \\right]^2 \\right),$$\n",
    "\n",
    "where we have written the ***product of the exponentials as the exponential of the sum of the arguments***, which will make things easier to deal with later.\n",
    "\n",
    "To repeat, all we have done is this: \n",
    "\n",
    "$$\\prod_{i=1}^N A_i \\exp(-B_i) = (A_iA_{i+1}\\ldots A_N) \\exp[-(B_i+B_{i+1}+\\ldots+B_N)]$$\n",
    "\n",
    "We can write $L$ out as\n",
    "\n",
    "$$L = \\prod_{i=1}^N \\frac{1}{\\sigma\\sqrt{2\\pi}} \\exp\\left(\\frac{-(x_i-\\mu)^2}{2\\sigma^2}\\right),$$\n",
    "\n",
    "and simplify to\n",
    "\n",
    "$$L = \\left(  \\frac{1}{\\sigma\\sqrt{2\\pi}} \\right)^N \\exp\\left( -\\frac{1}{2} \\sum \\left[\\frac{-(x_i-\\mu)}{\\sigma} \\right]^2 \\right),$$\n",
    "\n",
    "where we have written the ***product of the exponentials as the exponential of the sum of the arguments***, which will make things easier to deal with later.\n",
    "\n",
    "To repeat, all we have done is this: \n",
    "\n",
    "$$\\prod_{i=1}^N A_i \\exp(-B_i) = (A_iA_{i+1}\\ldots A_N) \\exp[-(B_i+B_{i+1}+\\ldots+B_N)]$$\n",
    "\n",
    "\n",
    "### The Key Idea Behind Maximum Likelihood Estimation\n",
    "\n",
    "Let's say that we know that some data were drawn from a Gaussian distribution, but we don't know the $\\theta = (\\mu,\\sigma)$ values of that distribution (i.e., the parameters).\n",
    "\n",
    "Then Maximum Likelihood Estimation method tells us to think of the likelihood as a ***function of the unknown model parameters***, and to ***find the parameters that maximize the value of $L$***. Those will be our *Maximum Likelihood Estimators* for for the true values of the model.\n",
    "\n",
    "Take a look at this [animation of linear least squares fitting](https://yihui.org/animation/example/least-squares/).\n",
    "\n",
    "They are trying to fit a line to some data by trying different intercepts and slopes. The red dashed lines show the difference (*residual*) between the model predicted value and the actual value. These are squared and summed ($\\chi^2$) and plotted as the $y$-axis in the right hand plot. The best-fit model parameters minimize the $\\chi^2$ value and maximize the likelihood."
   ]
  },
  {
   "cell_type": "code",
   "execution_count": null,
   "id": "af96a978-926b-44ff-a2eb-5ff28d4a5b55",
   "metadata": {},
   "outputs": [],
   "source": []
  },
  {
   "cell_type": "code",
   "execution_count": null,
   "id": "f8bafacb-91ee-4c65-a1f2-5c4251ba7048",
   "metadata": {},
   "outputs": [],
   "source": []
  },
  {
   "cell_type": "markdown",
   "id": "4d483da8-bcf9-40ee-a95f-9b25607fb006",
   "metadata": {},
   "source": [
    "## MLE applied to a Homoscedastic Gaussian <a class=\"anchor\" id=\"three\"></a>\n",
    "\n",
    "#### HOMO vs HETERO \"scedastic\":\n",
    "\n",
    "*Scedasticity: The distribution of error terms in a set of random variables.*\n",
    "\n",
    "In a measurement, uncertainties being the same is known as having **homoscedastic** uncertainties which just means \"uniform uncertainties\".  Later we will consider the case where the measurements can have different uncertainties ($\\sigma_i$) which is called **heteroscedastic**.\n",
    "\n",
    "Let's take a look at an astrometry example, using a model where all the measurements have the same uncertainty, drawn from a normal distribution, $N(0, \\sigma)$.\n",
    "\n",
    "\n",
    "##### Example: Measuring the Position of a Quasar\n",
    "\n",
    "Let's assume we wish to estimate the position $x$ of a quasar from a series of individual astrometric measurements.\n",
    "\n",
    "1. We adopt a model where the observed quasar does not move, and has individual measurement uncertainties \n",
    "2. We derive the expression for the likelihood of there being a quasar at position $x_0$ that gives rise to our individual measurements. We find the value of $\\hat x_0$ for which our observations are maximally likely.\n",
    "3. We determine the uncertainties (confidence intervals) on our measurement.\n",
    "4. We test whether what we've observed is consistent with our adopted model. For example, is it possible that the quasar was really a misidentified star with measurable proper motion?\n",
    "\n",
    "Note: in the text to come, we will use $\\mu$ instead of $x_0$ to denote the true position of the quasar. This is to avoid potential confusion with the first (or zeroth) measurement of $x$.\n"
   ]
  },
  {
   "cell_type": "markdown",
   "id": "48779b75-787a-4da3-861f-2a1af44054de",
   "metadata": {},
   "source": [
    "We have an experiment with the set of measured positions $D=\\{x_i\\}$ in 1D with Gaussian uncertainties, and therefore:\n",
    "\n",
    "$$L \\equiv p(\\{x_i\\}|\\mu,\\sigma) = \\prod_{i=1}^N \\frac{1}{\\sigma\\sqrt{2\\pi}} \\exp\\left(\\frac{-(x_i-\\mu)^2}{2\\sigma^2}\\right).$$\n",
    "\n",
    "Note that that is $p(\\{x_i\\})$ not $p(x_i)$, that is the probability of the full data set, not just one measurement. If $\\sigma$ is both constant and *known*, then this is a one parameter model with $k=1$ and $\\theta_1=\\mu$."
   ]
  },
  {
   "cell_type": "markdown",
   "id": "feb6c438-14bf-4a34-bd4e-0070b28f8416",
   "metadata": {},
   "source": [
    "As we found above, likelihoods can be really small, so let's define the **log-likelihood function** as ${\\ln L} = \\ln[L(\\theta)]$.  The maximum of this function happens at the same place as the maximum of $L$.  Note that any constants in $L$ have the same effect for all model parameters, so constant terms can be ignored.  \n",
    "\n",
    "In this case we then have \n",
    "\n",
    "$${\\rm lnL} = {\\rm constant} - \\sum_{i=1}^N \\frac{(x_i - \\mu)^2}{2\\sigma^2}.$$\n",
    "\n",
    "Take a second and make sure that you understand how we got there.  It might help to remember that above, we wrote\n",
    "\n",
    "$$L = \\left( \\frac{1}{\\sigma\\sqrt{2\\pi}} \\right)^N \\exp\\left( -\\frac{1}{2} \\sum \\left[\\frac{-(x_i-\\mu)}{\\sigma} \\right]^2 \\right).$$\n",
    "\n",
    "We then determine the maximum in the same way that we always do.  It is the parameter set for which the derivative of ${\\rm lnL}$ is zero:\n",
    "\n",
    "$$\\frac{d\\;{\\rm lnL}(\\mu)}{d\\mu}\\Biggr\\rvert_{\\hat \\mu} \\equiv 0.$$\n",
    "\n",
    "That gives $$ \\sum_{i=1}^N \\frac{(x_i - \\hat \\mu)}{\\sigma^2} = 0.$$\n",
    "\n",
    "Note: \n",
    "- We should also check that the $2^{\\rm nd}$ derivative is negative, to ensure this is the *maximum* of $L$.\n",
    "- Any constants in $\\ln L$ disappear when differentiated, so constant terms can typically be ignored. This will change if we're trying to select between different models, rather than just parameter estimation within a single model as we're doing here.\n",
    "\n",
    "Since $\\sigma = {\\rm constant}$ (not always, but here at least), that says \n",
    "\n",
    "$$\\sum_{i=1}^N x_i = \\sum_{i=1}^N \\hat \\mu = N \\hat \\mu.$$\n",
    "\n",
    "Thus we find that\n",
    "\n",
    "$$\\hat \\mu = \\frac{1}{N}\\sum_{i=1}^N x_i,$$\n",
    "\n",
    "***which is just the sample arithmetic mean of all the measurements!*** Thus **the sample mean is a ML estimator**. We got there in a roundabout way, but still pretty easy.\n",
    "\n",
    "\n",
    "\n",
    "### Properties of ML Estimators\n",
    "\n",
    "Assuming the data truly are drawn from the model, ML estimators have the following useful properties:\n",
    "\n",
    "* **They are consistent estimators**. They converge to the true parameter value as $N\\to\\infty$.\n",
    "\n",
    "\n",
    "* **They are asymptotically normal estimators**. As $N\\to\\infty$ the distribution of the parameter estimate approaches a normal distribution, centered at the MLE, with a certain spread.\n",
    "\n",
    "\n",
    "* **They asymptotically achieve the theoretical minimum possible variance, called the Cramér–Rao bound**. They achieve the best possible uncertainty given the data at hand; no other estimator can do better in terms of efficiently using each data point to reduce the total error of the estimate (see eq. 3.33 in the textbook)."
   ]
  },
  {
   "cell_type": "markdown",
   "id": "7ca3b9d7-bdb5-49ac-b42d-62a8609460e9",
   "metadata": {},
   "source": [
    "We are going to draw a homoscedastic sample of ${x_i}$ from a Gaussian and compute the likelihood.\n",
    "\n",
    "<font color='red'>First generate a sample of `N=3` points drawn from a normal distribution with `mu=1.0` and `sigma=0.2`: $\\mathscr{N}(\\mu,\\sigma)$</font>"
   ]
  },
  {
   "cell_type": "code",
   "execution_count": 30,
   "id": "928a58cc-5ca7-41fa-b50e-927b850d6788",
   "metadata": {},
   "outputs": [
    {
     "name": "stdout",
     "output_type": "stream",
     "text": [
      "[1.02594793 1.18047237 1.20116077]\n"
     ]
    }
   ],
   "source": [
    "import numpy as np\n",
    "from scipy.stats import norm\n",
    "import matplotlib.pyplot as plt\n",
    "\n",
    "N = 3 #Complete\n",
    "mu = 1.0\n",
    "sigma = 0.2 \n",
    "np.random.seed(142)\n",
    "sample = norm(mu,sigma).rvs(N)\n",
    "print(sample)"
   ]
  },
  {
   "cell_type": "code",
   "execution_count": null,
   "id": "e951ee2a-331c-4b54-bd61-fd210e0e7119",
   "metadata": {},
   "outputs": [],
   "source": []
  },
  {
   "cell_type": "markdown",
   "id": "5bbcce1c-c7bb-4cc7-9fb7-aacef4ae0055",
   "metadata": {},
   "source": [
    "Treat each of these observations as an estimate of the true distribution. So we'll center a Gaussian (with the known $\\sigma$) at each point. This is the probability of each data point, $p(x_i|\\mu,\\sigma)$.\n",
    "\n",
    "<font color='red'>Plot each of the likelihoods separately.  Also plot their product. Make the $x$ axis a grid of 1000 points uniformly sampled between $x=0$ and $x=2$.</font>"
   ]
  },
  {
   "cell_type": "code",
   "execution_count": 33,
   "id": "8ec9e4c8-e001-47bc-b07d-894a1a5b4038",
   "metadata": {},
   "outputs": [
    {
     "data": {
      "text/plain": [
       "<matplotlib.legend.Legend at 0x7fee4eba7f40>"
      ]
     },
     "execution_count": 33,
     "metadata": {},
     "output_type": "execute_result"
    },
    {
     "data": {
      "image/png": "[encoded data removed]",
      "text/plain": [
       "<Figure size 700x500 with 1 Axes>"
      ]
     },
     "metadata": {},
     "output_type": "display_data"
    }
   ],
   "source": [
    "#Make the plot and see if you get the same as me.\n",
    "xgrid = np.linspace(0,2,1000)\n",
    "\n",
    "L1 = norm.pdf(xgrid,loc=sample[0],scale=sigma) #This is a Gaussian PDF sampled uniformly, centered at a specific location.\n",
    "L2 = norm.pdf(xgrid,loc=sample[1],scale=sigma)\n",
    "L3 = norm.pdf(xgrid,loc=sample[2],scale=sigma)\n",
    "L = L1 * L2 * L3 #Total L is ???\n",
    "\n",
    "fig, ax = plt.subplots(figsize=(7, 5))\n",
    "plt.plot(xgrid, L1, ls='-', c='green', label=r'$L(x_1)$')\n",
    "plt.plot(xgrid, L2, ls='-', c='red', label=r'$L(x_2)$')\n",
    "plt.plot(xgrid, L3, ls='-', c='blue', label=r'$L(x_3)$')\n",
    "plt.plot(xgrid, L, ls='-', c='black', label=r'$L(\\{x\\})$')\n",
    "\n",
    "plt.xlim(0.2, 1.8)\n",
    "plt.ylim(0, 8.0)\n",
    "plt.xlabel('$\\mu$') #Leave out or adjust if no latex\n",
    "plt.ylabel(r'$p(x_i|\\mu,\\sigma)$') #Leave out or adjust if no latex\n",
    "plt.title('MLE for Gaussian Distribution')\n",
    "plt.legend()"
   ]
  },
  {
   "cell_type": "markdown",
   "id": "1377666d-8c4f-41d4-a5fc-e4221fff2327",
   "metadata": {},
   "source": [
    "Now we can just read off the maximum likelihood solution.  <font color='red'>Use `np.argsort()` to figure out the index of the largest value and print that element of `xgrid`.</font>"
   ]
  },
  {
   "cell_type": "code",
   "execution_count": 32,
   "id": "9c3d5e76-f463-4d5a-9110-22730497dd5b",
   "metadata": {},
   "outputs": [
    {
     "name": "stdout",
     "output_type": "stream",
     "text": [
      "Likelihood is maximized at 1.1591591591591592\n",
      "Mean of the samples is 1.1358603578150104\n"
     ]
    }
   ],
   "source": [
    "sorted_indices = np.argsort(L)\n",
    "index_max = sorted_indices[-1]\n",
    "print(f\"Likelihood is maximized at {xgrid[index_max]}\")\n",
    "print(f\"Mean of the samples is {np.sum(sample)/N}\")"
   ]
  },
  {
   "cell_type": "code",
   "execution_count": null,
   "id": "a788367d-0982-4b12-baec-dd416004052b",
   "metadata": {},
   "outputs": [],
   "source": []
  },
  {
   "cell_type": "code",
   "execution_count": null,
   "id": "edf75ea7-db3b-4003-84b8-2644df579f8e",
   "metadata": {},
   "outputs": [],
   "source": []
  }
 ],
 "metadata": {
  "kernelspec": {
   "display_name": "Python [conda env:phys629] *",
   "language": "python",
   "name": "conda-env-phys629-py"
  },
  "language_info": {
   "codemirror_mode": {
    "name": "ipython",
    "version": 3
   },
   "file_extension": ".py",
   "mimetype": "text/x-python",
   "name": "python",
   "nbconvert_exporter": "python",
   "pygments_lexer": "ipython3",
   "version": "3.8.17"
  }
 },
 "nbformat": 4,
 "nbformat_minor": 5
}
